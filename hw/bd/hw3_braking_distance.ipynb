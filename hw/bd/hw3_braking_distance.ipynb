{
 "cells": [
  {
   "cell_type": "code",
   "execution_count": 1,
   "metadata": {},
   "outputs": [],
   "source": [
    "import sys\n",
    "sys.path.append('../../')\n",
    "\n",
    "from car_iface import controller_model\n",
    "from utils import nn\n",
    "import numpy as np\n",
    "import matplotlib.pyplot as plt"
   ]
  },
  {
   "cell_type": "code",
   "execution_count": 4,
   "metadata": {},
   "outputs": [
    {
     "name": "stdout",
     "output_type": "stream",
     "text": [
      "Using Neural Model\n"
     ]
    }
   ],
   "source": [
    "'''\n",
    "Set the MODE here to either use a Neural Model (FCN)\n",
    "or the analytical equation.  Note the analytical equation\n",
    "can only be used for simple motion dynamics.\n",
    "'''\n",
    "MODE = 0\n",
    "MODE_DICT = {0: \"Neural Model\", 1: \"Analytical Equation\"}\n",
    "print(f\"Using {MODE_DICT[MODE]}\")"
   ]
  },
  {
   "cell_type": "code",
   "execution_count": 5,
   "metadata": {},
   "outputs": [],
   "source": [
    "'''\n",
    "CAR_MODEL you set to either \"simple\" or \"complex\".\n",
    "This dictates the internal model dynamics you will be using.\n",
    "'''\n",
    "CAR_MODEL = \"complex\"\n",
    "ci = controller_model.Car_Interface(model = CAR_MODEL)\n",
    "\n",
    "ci.set_gear(ci.FORWARD)\n",
    "\n",
    "if (MODE_DICT[MODE] == \"Simple Equation\" and CAR_MODEL == \"complex\"):\n",
    "    raise Exception(\"Invalid combination.\")"
   ]
  },
  {
   "cell_type": "markdown",
   "metadata": {},
   "source": [
    "## Stopping Distance Generation"
   ]
  },
  {
   "cell_type": "markdown",
   "metadata": {},
   "source": [
    "Here we take advantage of the controller model we\n",
    "developed using System ID.  Now instead of spending\n",
    "excessive amounts of time manually controlling the car\n",
    "we can easily generate data to work with.\n",
    "\n",
    "For a basic implementation of this function follow the\n",
    "below steps.  A model trained with this data will not\n",
    "work in all cases, but it will generally.  If you would\n",
    "like to learn why and come up with a more robust data\n",
    "generation scheme see the braking_distance_extra ipynb\n",
    "when it is released next lecture.\n",
    "\n",
    "IMPORTANT NOTE: For this to work with the \"complex\"\n",
    "car model you will have to first fill out one small\n",
    "section around line 138 in controller_model.py. This\n",
    "will allow your controller model to work with the non-linear \n",
    "SystemID shared during lecture."
   ]
  },
  {
   "cell_type": "code",
   "execution_count": 6,
   "metadata": {},
   "outputs": [],
   "source": [
    "'''\n",
    "Basic Instructions:\n",
    "1a.Select an initial velocity uniformly at random between 0 and 1. (see: np.random.random())\n",
    " b.Directly set the controller's velocity to this initial velocity.\n",
    " c.Zero the position of the controller.\n",
    "2.Select a brake pedal amount, amt, uniformly at random between 0 and 1.\n",
    "3a.Initialize a counter variable, t, to 0.\n",
    " b.While the controller's velocity is positive repeat the following steps.\n",
    " c.Apply the brakes at depression % amt for one time step.\n",
    " d.Increment t by the controller's dt time step.\n",
    " e.If t exceeds a time limit of 5 seconds, break out of this inner loop.\n",
    "4.If the controller's velocity is 0 proceed, otherwise repeat steps 1 to 4.\n",
    "5.The stopping distance is the position of the car, get this from the controller model.\n",
    "6.Initialize inp as a list of length two, where the first element is the\n",
    "  initial velocity, and the second element is the stopping distance.\n",
    "7.Return amt, inp\n",
    "\n",
    "What we are doing here is repeatedly trying random configurations of intial speed\n",
    "and brake amount.  If we stop within the time limit then we have a valid data point.\n",
    "The current position represents our stopping distance.\n",
    "\n",
    "We take advantage of having a controller model in 3 ways.\n",
    "1. Can run the simulations a lot faster.\n",
    "2. Can directly set velocity (used in step 1b)\n",
    "3. Don't have noise with measurements (helps a lot when velocity gets close to 0)\n",
    "\n",
    "NOTE: this specific method of data generation produces a couple biases.  Consider\n",
    "the following scenario.  The car is fairly far from the target brake point.  Further,\n",
    "it is not moving very fast.  Here you attempt to precision brake, but you might find\n",
    "the car stops too early Why might this type of data point not be captured by this\n",
    "generation method?  If you see how to fix this feel free to do so.  If not next\n",
    "lecture a supplementary notebook will be released detailing the few steps needed\n",
    "to do so.\n",
    "'''\n",
    "\n",
    "def stopping_distance_gen():\n",
    "    car = ci\n",
    "    car.velocity = np.random.random()\n",
    "    initial = car.velocity\n",
    "    car.position = 0\n",
    "    bpd = np.random.random()\n",
    "    car.T = 0\n",
    "    while ((car.velocity > 0) & (car.T <= 5)):\n",
    "        car.apply_control(car.BRAKE, bpd)\n",
    "        car.T = car.T + car.dt\n",
    "    inp = [initial, car.position]\n",
    "    return bpd, inp\n",
    "        \n",
    "        \n",
    "    # CODE HERE"
   ]
  },
  {
   "cell_type": "code",
   "execution_count": 7,
   "metadata": {},
   "outputs": [
    {
     "name": "stdout",
     "output_type": "stream",
     "text": [
      "A car moving at 47.67% speed, applied 80.96% brakes and stopped, after travelling 0.27 distance units\n"
     ]
    }
   ],
   "source": [
    "'''\n",
    "Displays a sample data point.  If this provides a reasonable \n",
    "output you probably did the previous part correctly.  \n",
    "'''\n",
    "amt, (initial_velocity, stopping_distance) = stopping_distance_gen()\n",
    "print(f\"A car moving at {initial_velocity * 100:.2f}% speed, applied {amt * 100:.2f}% brakes and stopped, after travelling {stopping_distance:.2f} distance units\")"
   ]
  },
  {
   "cell_type": "markdown",
   "metadata": {},
   "source": [
    "## Analytical Solution for 'Simple' Car Model"
   ]
  },
  {
   "cell_type": "markdown",
   "metadata": {},
   "source": [
    "IMPORTANT NOTE: When you have completed implementations of these two functions, paste their definitions into the corresponding locations (under the matching function headers) in braking_distance/bd_api.py.  This is what the simulator will actually interact with."
   ]
  },
  {
   "cell_type": "code",
   "execution_count": 8,
   "metadata": {},
   "outputs": [],
   "source": [
    "'''\n",
    "Write the analytical solution for the theoretical stopping distance.\n",
    "The equation is presented in the lecture slides (Slides 9-13)\n",
    "\n",
    "Some helpful reminders:\n",
    "    The linear model assumes: accel = c_1 * p_accel + c_2 * p_brake + c_3 * vel + c_4\n",
    "    c_1 = ci.accelerator_weight\n",
    "    c_2 = ci.brake_weight\n",
    "    c_3 = -ci.friction_constant\n",
    "    c_4 = ci.rolling_bias\n",
    "    (Where ci is the car interface you initialized above)\n",
    "\n",
    "Implemenation Instructions:\n",
    "1. Initialize x, f, and v0 from available information\n",
    "2. Check if the expression in Slide 13 would evaluate infinity, if so return float('inf')\n",
    "3. Otherwise return the stopping distance as calculated in Slide 3.\n",
    "\n",
    "NOTE: the stopping distance will be infinite when the brake amount is not enough to \n",
    "overcome the rolling bias.\n",
    "\n",
    "The only discrepancy between this and the actual stopping distance\n",
    "arises from the discretized nature of the simulation.  This is\n",
    "a precise calculation otherwise.\n",
    "\n",
    "IMPORTANT: After implementing this sucessfully paste the function body in \n",
    "the corresponding and marked location in braking_distance/bd_api.py (line 80)\n",
    "'''\n",
    "def simple_analytical_sd(initial_velocity, amt):\n",
    "    f = ci.friction_constant\n",
    "    v0 = initial_velocity\n",
    "    x = ci.brake_weight * amt + ci.rolling_bias\n",
    "    if (f == 0 or ((f*v0)/x) == 1):\n",
    "        return float('inf')\n",
    "    else:\n",
    "        return (1/f)*(v0 + (x/f)*np.log(1-((f*v0)/x)))\n",
    "    #CODE HERE\n",
    "\n",
    "'''\n",
    "Function takes as input the initial velocity and desired stopping distance.\n",
    "Then using binary search returns an estimate within the specified tolerance\n",
    "of the actual required brake amount.\n",
    "\n",
    "Parameters:\n",
    "inp: (initial velocity, desired stopping distance)\n",
    "tol: estimate tolerance \n",
    "min_amt: minumum possible value of the required brake amount (initially 0)\n",
    "max_amt: maximum possible value of the required brake amount (initially 1)\n",
    "\n",
    "\n",
    "Implemenation Instructions\n",
    "1.Initialize mid_amt as the midway point between min_amt and max_amt.\n",
    "2.If the length of the min max interval is less than twice the tolerance,\n",
    "  then mid_amt is a valid estimate (+/- the the tolerance of the actual)\n",
    "3a.Calculate the analytical stopping distance with the given initial velocity,\n",
    "   and current estimate (mid_amt).\n",
    " b.Update min_amt and max_amt accordingly to narrow the search space and recurse.\n",
    "   (NOTE: careful, if the stopping distance is too high is the mid_amt too high or low?)\n",
    "   \n",
    "IMPORTANT: After implementing this sucessefully paste the function body in the \n",
    "corresponding and marked location in braking_distance/bd_api.py (roughly line 90)\n",
    "'''\n",
    "def simple_analytical_approx(inp, tol = 1e-5, min_amt = 0, max_amt = 1):\n",
    "    mid_amt = (min_amt + max_amt)/2\n",
    "    while (abs(max_amt - min_amt) >= 2*tol):\n",
    "        mid_amt = (min_amt + max_amt)/2\n",
    "        d = simple_analytical_sd(inp[0], mid_amt)\n",
    "        print(d)\n",
    "        if (d > inp[1]):\n",
    "            min_amt = mid_amt\n",
    "        else:\n",
    "            max_amt = mid_amt\n",
    "    print(mid_amt)\n",
    "    return mid_amt\n",
    "    \n",
    "    #CODE HERE"
   ]
  },
  {
   "cell_type": "code",
   "execution_count": 9,
   "metadata": {},
   "outputs": [
    {
     "name": "stdout",
     "output_type": "stream",
     "text": [
      "1.1818586262587245\n",
      "0.8449662513590782\n",
      "0.739843921457423\n",
      "0.6965530451511515\n",
      "0.6767601629838457\n",
      "0.6672810999584619\n",
      "0.6626407963732177\n",
      "0.6603448455961762\n",
      "0.6592028467019339\n",
      "0.6586333322791948\n",
      "0.6583489451939672\n",
      "0.6582068440421049\n",
      "0.6581358165462937\n",
      "0.6581003085662238\n",
      "0.6580825560178739\n",
      "0.6580736801040843\n",
      "0.9999847412109375\n",
      "Car moving at 61.10%; Target Stopping Distance 0.42 distance units\n",
      "Simulation Brake Amount: 79.01%; Closed Form Brake Amount 100.00%\n",
      "\n",
      "0.005650013693035496\n",
      "0.012050717067510926\n",
      "0.027814559198951174\n",
      "0.08106024924949191\n",
      "0.04136638276767596\n",
      "0.054733132533581065\n",
      "0.047115456867652165\n",
      "0.04405333205530495\n",
      "0.0455327291234048\n",
      "0.04631050831561806\n",
      "0.046709497764483014\n",
      "0.04691159468633807\n",
      "0.046810327011495866\n",
      "0.046759857763567475\n",
      "0.046785078709105414\n",
      "0.04677246481952367\n",
      "0.0863494873046875\n",
      "Car moving at 3.65%; Target Stopping Distance 0.05 distance units\n",
      "Simulation Brake Amount: 0.48%; Closed Form Brake Amount 8.63%\n",
      "\n",
      "0.804723569307794\n",
      "0.5668621227391798\n",
      "0.4940120849943177\n",
      "0.4642021624440653\n",
      "0.45061001058443534\n",
      "0.4441088180505038\n",
      "0.44092822862710646\n",
      "0.43935499640596537\n",
      "0.43857259249267055\n",
      "0.4381824369969236\n",
      "0.43798762004625563\n",
      "0.4378902766683146\n",
      "0.43784162124097414\n",
      "0.4378172975911231\n",
      "0.4378051367819547\n",
      "0.4377990566312826\n",
      "0.9999847412109375\n",
      "Car moving at 49.09%; Target Stopping Distance 0.28 distance units\n",
      "Simulation Brake Amount: 98.01%; Closed Form Brake Amount 100.00%\n",
      "\n"
     ]
    }
   ],
   "source": [
    "'''\n",
    "Demonstrate the performance of the Analytical Equation Estimate\n",
    "with a few examples.  (The estimate is the \"Closed Form Brake Amount\").\n",
    "The simulated result and the closed form brake amount should be very close.\n",
    "The discrepancy is largest in extreme value cases where the discretization\n",
    "has a significant effect.\n",
    "'''\n",
    "MODE = 1\n",
    "if (MODE == 1):\n",
    "    for i in range(3):\n",
    "            amt, (initial_velocity, stopping_distance) = stopping_distance_gen()\n",
    "            pred = simple_analytical_approx((initial_velocity, stopping_distance))\n",
    "            print(f\"Car moving at {initial_velocity * 100:.2f}%; Target Stopping Distance {stopping_distance:.2f} distance units\")\n",
    "            print(f\"Simulation Brake Amount: {amt*100:.2f}%; Closed Form Brake Amount {pred*100:.2f}%\")\n",
    "            print()"
   ]
  },
  {
   "cell_type": "markdown",
   "metadata": {},
   "source": [
    "## FCN Training and Evaluation"
   ]
  },
  {
   "cell_type": "code",
   "execution_count": 10,
   "metadata": {},
   "outputs": [
    {
     "name": "stdout",
     "output_type": "stream",
     "text": [
      "WARNING: Weights file not found, initializing fcn with random weights.\n"
     ]
    }
   ],
   "source": [
    "MODE = 0\n",
    "'''\n",
    "Initialize FCN.\n",
    "\n",
    "You will need to supply additional parameters to the\n",
    "initializer function. See utils/nn.py for documentation.\n",
    "See demos/week3/Nonlinear_SystemID for example usage.\n",
    "\n",
    "Hint 1: There are two additional parameters you need to specify\n",
    "Hint 2:  What are the inputs for this FCN?  What is the ouput?\n",
    "What are the reasonable possible outputs?\n",
    "\n",
    "NOTE: By default this will load previously learned weights if possible.\n",
    "If for whatever reason you would like to retrain your FCN from scratch, \n",
    "include the optional parameter retrain = True.\n",
    "'''\n",
    "if (MODE == 0):\n",
    "    model = nn.fcn(model_name = \"../../braking_distance/\" + CAR_MODEL + \"_bd\", num_inputs = 2, out_range = (0, 1))"
   ]
  },
  {
   "cell_type": "code",
   "execution_count": 12,
   "metadata": {},
   "outputs": [
    {
     "name": "stdout",
     "output_type": "stream",
     "text": [
      "EPOCH 1 0.008351\n",
      "EPOCH 41 0.007696\n",
      "EPOCH 81 0.008089\n",
      "EPOCH 121 0.008621\n",
      "EPOCH 161 0.007402\n",
      "EPOCH 200 0.007801\r"
     ]
    }
   ],
   "source": [
    "'''\n",
    "Generate 1000 inputs and targets and train for 200 epochs on this\n",
    "generated data.  (Note you can run this blck a few times to train\n",
    "further).\n",
    "\n",
    "Implementation Instructions:\n",
    "1.Initialize two empty lists, inputs and targets.\n",
    "2a.Get a brake amount and and two dimensional input by calling\n",
    "   stopping_distance_gen()\n",
    " b.Append the input to the inputs list, and the brake amount to\n",
    "   the targets list.\n",
    " c.Repeat 2a and 2b 1000 times.\n",
    "3.Use the model.train method to train with this data for 200 epochs.\n",
    "  (See nn.py for function information)\n",
    "'''\n",
    "if (MODE == 0):\n",
    "    inps = []\n",
    "    targs = []\n",
    "    for x in range(1000):\n",
    "        bpd, inp = stopping_distance_gen()\n",
    "        inps.append(inp)\n",
    "        targs.append(bpd)\n",
    "    model.train(inps, targs, num_epochs = 200)\n",
    "    \n",
    "    \n",
    "    #CODE HERE\n"
   ]
  },
  {
   "cell_type": "code",
   "execution_count": 51,
   "metadata": {},
   "outputs": [
    {
     "ename": "NameError",
     "evalue": "name '______' is not defined",
     "output_type": "error",
     "traceback": [
      "\u001b[0;31m---------------------------------------------------------------------------\u001b[0m",
      "\u001b[0;31mNameError\u001b[0m                                 Traceback (most recent call last)",
      "\u001b[0;32m<ipython-input-51-bf47b3cf1329>\u001b[0m in \u001b[0;36m<module>\u001b[0;34m\u001b[0m\n\u001b[1;32m     21\u001b[0m \u001b[0;34m\u001b[0m\u001b[0m\n\u001b[1;32m     22\u001b[0m \u001b[0;34m\u001b[0m\u001b[0m\n\u001b[0;32m---> 23\u001b[0;31m         \u001b[0mprint\u001b[0m\u001b[0;34m(\u001b[0m\u001b[0;34mf\"INIT VEL: {______:.3f} TARG SD: {______:.3f} BRK AMT: {_____:.3f} MODEL OUT:{_____:.3f} \"\u001b[0m\u001b[0;34m)\u001b[0m\u001b[0;34m\u001b[0m\u001b[0;34m\u001b[0m\u001b[0m\n\u001b[0m",
      "\u001b[0;31mNameError\u001b[0m: name '______' is not defined"
     ]
    }
   ],
   "source": [
    "'''\n",
    "Demonstrate the performance of the FCN brake amount estimator\n",
    "with a few examples.\n",
    "'''\n",
    "if (MODE == 0):\n",
    "    for i in range(3):\n",
    "        '''\n",
    "        Generate an example scenario complete with an initial velocity,\n",
    "        target stopping distance, and necessary brake amount.\n",
    "        \n",
    "        Then run your model on the appropriate input and record it's\n",
    "        predicted brake amount.\n",
    "        \n",
    "        Finally fill in the variable names you used in the blanks to output\n",
    "        the input, target, and output.\n",
    "        \n",
    "        Ideally the model ouput should be fairly close to the brake amount.\n",
    "        '''\n",
    "\n",
    "        #CODE HERE\n",
    "        \n",
    "\n",
    "        print(f\"INIT VEL: {______:.3f} TARG SD: {______:.3f} BRK AMT: {_____:.3f} MODEL OUT:{_____:.3f} \")"
   ]
  },
  {
   "cell_type": "code",
   "execution_count": 13,
   "metadata": {},
   "outputs": [
    {
     "name": "stdout",
     "output_type": "stream",
     "text": [
      "WITHIN 0.1 269/300 times\n",
      "MEDIAN ERROR 0.0209\n"
     ]
    },
    {
     "data": {
      "image/png": "[encoded data removed]",
      "text/plain": [
       "<Figure size 432x288 with 1 Axes>"
      ]
     },
     "metadata": {
      "needs_background": "light"
     },
     "output_type": "display_data"
    }
   ],
   "source": [
    "'''\n",
    "Empirically evaluate the model for it's performance.\n",
    "Present two stats in the end:\n",
    "1) The proportion of the time that the estimate is\n",
    "   within a certain tolerance (here 0.1)\n",
    "2) The median estimation error.\n",
    "'''\n",
    "TEST = 300\n",
    "correct = 0\n",
    "tol = 0.1\n",
    "errors = []\n",
    "for i in range(TEST):\n",
    "    print(f\"TESTING {i + 1}/{TEST}\", end = \"\\r\")\n",
    "    amt, inp = stopping_distance_gen()\n",
    "\n",
    "    if (MODE == 0):\n",
    "        out = model.predict(inp)\n",
    "    elif (MODE == 1):\n",
    "        out = simple_analytical_approx(inp, tol = 1e-5)\n",
    "\n",
    "    if (abs(out - amt) < tol):\n",
    "        correct += 1\n",
    "    errors.append(out - amt)\n",
    "print(f\"WITHIN {tol} {correct}/{TEST} times\")\n",
    "print(f\"MEDIAN ERROR {np.median(np.abs(errors)):.4f}\")\n",
    "\n",
    "plt.title(\"Error Distribution\")\n",
    "plt.hist(errors, bins = 200, range = (-1, 1))\n",
    "plt.show()"
   ]
  },
  {
   "cell_type": "markdown",
   "metadata": {},
   "source": [
    "## Model Usage"
   ]
  },
  {
   "cell_type": "markdown",
   "metadata": {},
   "source": [
    "Now you're ready to test out your algorithm!  Run the simulator in braking distance mode (command below) to begin.  Drive around to make sure you remember the controls.\n",
    "\n",
    "python simulator.py --mode braking_distance\n",
    "\n",
    "To run with complex internal model run:\n",
    "\n",
    "python simulator.py --mode braking_distance --car_model complex"
   ]
  },
  {
   "cell_type": "markdown",
   "metadata": {},
   "source": [
    "## Target Brake Point Marking"
   ]
  },
  {
   "cell_type": "markdown",
   "metadata": {},
   "source": [
    "Now drive up to one of the red stop lines in the simulator, braking nicely in front of the line.  Click 'm' this will record the position and direction in which you stopped in as a keypoint target.  Repeat this process at a few other stop lines.  (You could do other locations as well, but this is the most practical). \n",
    "\n",
    "If you accidentally add erroneous keypoints you can delete them individually by running keypoints.py. (Or delete all of them by trashing the keypoint_locations.json).  Note, either of these files are in the braking_distance folder."
   ]
  },
  {
   "cell_type": "markdown",
   "metadata": {},
   "source": [
    "## Precision Braking"
   ]
  },
  {
   "cell_type": "markdown",
   "metadata": {},
   "source": [
    "To apply precision braking approach a brake point while driving.  If a target brake point is in your heading, you should notice the option to hold 'b' appear in the terminal window.  This indicates that you may begin precision braking.  Hold 'b' to precision brake.  Release one you have stopped moving.  \n",
    "\n",
    "A graph will come up detailing how much you depressed the brake pedal as you approached the target brake point.  The reason we brake a varying amount over time is because we are replanning every timestep.  This prevents error from building up in our model, and naturally adjusts the car's behavior as appropriate."
   ]
  },
  {
   "cell_type": "markdown",
   "metadata": {},
   "source": [
    "## Evaluation"
   ]
  },
  {
   "cell_type": "markdown",
   "metadata": {},
   "source": [
    "You will be evaluated on whether or not you successfully brake, somewhat smoothly, roughly at your target brake point.  You shouldn't overshoot the brake point or stop too early either.  This should work for both simple and complex models."
   ]
  },
  {
   "cell_type": "code",
   "execution_count": null,
   "metadata": {},
   "outputs": [],
   "source": []
  }
 ],
 "metadata": {
  "kernelspec": {
   "display_name": "Python 3",
   "language": "python",
   "name": "python3"
  },
  "language_info": {
   "codemirror_mode": {
    "name": "ipython",
    "version": 3
   },
   "file_extension": ".py",
   "mimetype": "text/x-python",
   "name": "python",
   "nbconvert_exporter": "python",
   "pygments_lexer": "ipython3",
   "version": "3.6.10"
  }
 },
 "nbformat": 4,
 "nbformat_minor": 2
}
